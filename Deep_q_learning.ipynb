{
 "cells": [
  {
   "cell_type": "code",
   "execution_count": 3,
   "metadata": {
    "collapsed": true
   },
   "outputs": [],
   "source": [
    "\n",
    "import gym\n",
    "import tensorflow as tf\n",
    "import numpy as np"
   ]
  },
  {
   "cell_type": "code",
   "execution_count": 4,
   "metadata": {},
   "outputs": [
    {
     "name": "stdout",
     "output_type": "stream",
     "text": [
      "\u001b[33mWARN: gym.spaces.Box autodetected dtype as <class 'numpy.float32'>. Please provide explicit dtype.\u001b[0m\nA:  Discrete(2)\nS:  Box(4,)\n"
     ]
    }
   ],
   "source": [
    "env = gym.make('CartPole-v0')\n",
    "action_size = env.action_space\n",
    "state_size = env.observation_space\n",
    "print(\"A: \",action_size)\n",
    "print(\"S: \", state_size)"
   ]
  },
  {
   "cell_type": "code",
   "execution_count": 5,
   "metadata": {},
   "outputs": [],
   "source": [
    "\n",
    "from collections import deque\n",
    "class Replay_Memory():\n",
    "    def __init__(self, max_size = 1000):\n",
    "        self.buffer = deque(maxlen=max_size)\n",
    "    \n",
    "    def add(self, experience):\n",
    "        self.buffer.append(experience)\n",
    "            \n",
    "    def sample(self, batch_size):\n",
    "        idx = np.random.choice(np.arange(len(self.buffer)), \n",
    "                               size=batch_size, \n",
    "                               replace=False)\n",
    "        return [self.buffer[ii] for ii in idx]"
   ]
  },
  {
   "cell_type": "heading",
   "metadata": {},
   "level": 5,
   "source": [
    "Now, our Q value, $Q(s, a)$ is calculated by passing in a state to the network. The output will be Q-values for each available action, with fully connected hidden layers."
   ]
  },
  {
   "cell_type": "code",
   "execution_count": 6,
   "metadata": {},
   "outputs": [],
   "source": [
    "action_size = 2 \n",
    "state_size = 4\n",
    "learning_rate = 0.01\n",
    "\n",
    "episodes = 1000\n",
    "episodic_steps = 200\n",
    "gamma= 0.99\n",
    "\n",
    "#exploartion parameters\n",
    "epsilon = 1.0 # probability of exploration is 1 in beginning for doing random exploration\n",
    "max_epsilon = 1.0\n",
    "min_epsilon = 0.001 # close to 0, for exploitation\n",
    "decay_Rate = 0.005 \n",
    "\n",
    "#Network parameters\n",
    "hidden_size = 64               # number of units in each Q-network hidden layer\n",
    "learning_rate = 0.0001 \n",
    "\n",
    "# Memory parameters\n",
    "memory_size = 10000            # memory capacity\n",
    "batch_size = 20                # experience mini-batch size\n",
    "pretrain_length = batch_size   # number experiences to pretrain the memory\n",
    "\n"
   ]
  },
  {
   "cell_type": "code",
   "execution_count": 7,
   "metadata": {},
   "outputs": [],
   "source": [
    "class QNetwork:\n",
    "    def __init__(self, learning_rate, state_size, \n",
    "                 action_size, hidden_size, \n",
    "                 name='QNetwork'):\n",
    "        \n",
    "        with tf.variable_scope(name):\n",
    "            # state inputs to the Q-network\n",
    "            self.inputs_ = tf.placeholder(tf.float32, [None, state_size], name='inputs')\n",
    "            \n",
    "            # One hot encode the actions to later choose the Q-value for the action\n",
    "            self.actions_ = tf.placeholder(tf.int32, [None], name='actions')\n",
    "            one_hot_actions = tf.one_hot(self.actions_, action_size)\n",
    "            \n",
    "            # Target Q values for training\n",
    "            self.targetQs_ = tf.placeholder(tf.float32, [None], name='target')\n",
    "            \n",
    "            # ReLU hidden layers\n",
    "            self.fc1 = tf.contrib.layers.fully_connected(self.inputs_, hidden_size)\n",
    "            self.fc2 = tf.contrib.layers.fully_connected(self.fc1, hidden_size)\n",
    "\n",
    "            # Linear output layer\n",
    "            self.output = tf.contrib.layers.fully_connected(self.fc2, action_size, \n",
    "                                                            activation_fn=None)\n",
    "            \n",
    "            ### Train with loss (targetQ - Q)^2\n",
    "            # output has length 2, for two actions. This next line chooses\n",
    "            # one value from output (per row) according to the one-hot encoded actions.\n",
    "            self.Q = tf.reduce_sum(tf.multiply(self.output, one_hot_actions), axis=1)\n",
    "            \n",
    "            self.loss = tf.reduce_mean(tf.square(self.targetQs_ - self.Q))\n",
    "            self.opt = tf.train.AdamOptimizer(learning_rate).minimize(self.loss)"
   ]
  },
  {
   "cell_type": "code",
   "execution_count": 9,
   "metadata": {},
   "outputs": [],
   "source": [
    "tf.reset_default_graph()\n",
    "Deep_Q_Network = QNetwork(name='main', action_size = action_size, state_size = state_size,hidden_size=hidden_size, learning_rate=learning_rate)"
   ]
  },
  {
   "cell_type": "heading",
   "metadata": {},
   "level": 6,
   "source": [
    "The agent is taking random actions and storing the transitions in memory. This will help the agent with exploring the game. Just for populating the experiencce replay."
   ]
  },
  {
   "cell_type": "code",
   "execution_count": 10,
   "metadata": {},
   "outputs": [],
   "source": [
    "env.reset()\n",
    "#take random step\n",
    "s,r,d,i = env.step(env.action_space.sample())\n",
    "memory = Replay_Memory(max_size=memory_size)\\\n",
    "\n",
    "#storing experiences by doing few random actions\n",
    "\n",
    "for ii in range(pretrain_length):\n",
    "    env.render()\n",
    "    action = env.action_space.sample()\n",
    "    s_,r,d,i = env.step(action)\n",
    "    if d:\n",
    "        s_ = np.zeros(s.shape)\n",
    "        memory.add((s,action,r,s_))\n",
    "        #start new episode\n",
    "        env.reset()\n",
    "        s,r,d,i = env.step(env.action_space.sample())\n",
    "    else:\n",
    "        memory.add((s,action,r,s_))\n",
    "        s = s_\n",
    "        "
   ]
  },
  {
   "cell_type": "code",
   "execution_count": 16,
   "metadata": {},
   "outputs": [
    {
     "name": "stdout",
     "output_type": "stream",
     "text": [
      "\u001b[33mWARN: You are calling 'step()' even though this environment has already returned done = True. You should always call 'reset()' once you receive 'done = True' -- any further steps are undefined behavior.\u001b[0m\nEpisode: 1 Total reward: 0.0 Training loss: 1.0575 Explore P: 0.9950\n"
     ]
    }
   ],
   "source": [
    "saver = tf.train.Saver()\n",
    "rewards = []\n",
    "with tf.Session() as sess:\n",
    "    sess.run(tf.global_variables_initializer())\n",
    "    step = 0\n",
    "    for ep in range(1, episodes):\n",
    "        total_reward = 0\n",
    "        t = 0\n",
    "        while t < episodic_steps:\n",
    "            step += 1\n",
    "            explore = min_epsilon + (max_epsilon - min_epsilon) * np.exp(-decay_Rate * step)\n",
    "            if explore > np.random.rand():\n",
    "                # make a random action\n",
    "                action = env.action_space.sample()\n",
    "            else:\n",
    "                # exploitiation, get values from the Q-network\n",
    "                feed = {Deep_Q_Network.inputs_: s.reshape((1, *s.shape))}\n",
    "                Qs = sess.run(Deep_Q_Network.output, feed_dict=feed)\n",
    "                action = np.argmax(Qs)\n",
    "            s_, r, d, i = env.step(action)\n",
    "            total_reward += r\n",
    "\n",
    "            if d:\n",
    "                s_ = np.zeros(s.shape)\n",
    "                t = episodic_steps\n",
    "\n",
    "                print('Episode: {}'.format(ep),\n",
    "                      'Total reward: {}'.format(total_reward),\n",
    "                      'Training loss: {:.4f}'.format(loss),\n",
    "                      'Explore P: {:.4f}'.format(explore))\n",
    "                rewards.append(ep, total_reward)\n",
    "\n",
    "                memory.add((s, action, r, s_))\n",
    "\n",
    "                # newepisode\n",
    "                env.reset()\n",
    "                s, r, d, i = env.step(env.action_space.sample())\n",
    "            else:\n",
    "                memory.add((s, action, r, s_))\n",
    "                s = s_\n",
    "                t += 1\n",
    "\n",
    "            batch = memory.sample(batch_size)\n",
    "            states = np.array([each[0] for each in batch])\n",
    "            actions = np.array([each[1] for each in batch])\n",
    "            rewards = np.array([each[2] for each in batch])\n",
    "            next_states = np.array([each[3] for each in batch])\n",
    "\n",
    "            # train network\n",
    "            target_Qs = sess.run(Deep_Q_Network.output, feed_dict={Deep_Q_Network.inputs_: next_states})\n",
    "            # Set target_Qs to 0 for states where episode ends\n",
    "            episode_ends = (next_states == np.zeros(states[0].shape)).all(axis=1)\n",
    "            target_Qs[episode_ends] = (0, 0)\n",
    "\n",
    "            targets = rewards + gamma * np.max(target_Qs, axis=1)\n",
    "            loss, _ = sess.run([Deep_Q_Network.loss, Deep_Q_Network.opt],\n",
    "                               feed_dict={Deep_Q_Network.inputs_: states,\n",
    "                                          Deep_Q_Network.targetQs_: targets,\n",
    "                                          Deep_Q_Network.actions_: actions})\n",
    "    saver.save(sess, \"checkpoints/cartpole.ckpt\")"
   ]
  },
  {
   "cell_type": "code",
   "execution_count": null,
   "metadata": {},
   "outputs": [],
   "source": []
  }
 ],
 "metadata": {
  "kernelspec": {
   "display_name": "Python 2",
   "language": "python",
   "name": "python2"
  },
  "language_info": {
   "codemirror_mode": {
    "name": "ipython",
    "version": 2
   },
   "file_extension": ".py",
   "mimetype": "text/x-python",
   "name": "python",
   "nbconvert_exporter": "python",
   "pygments_lexer": "ipython2",
   "version": "2.7.6"
  }
 },
 "nbformat": 4,
 "nbformat_minor": 0
}
